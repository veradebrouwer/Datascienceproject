{
 "cells": [
  {
   "cell_type": "code",
   "execution_count": 7,
   "metadata": {},
   "outputs": [
    {
     "name": "stdout",
     "output_type": "stream",
     "text": [
      "Requirement already satisfied: snscrape in /Library/Frameworks/Python.framework/Versions/3.7/lib/python3.7/site-packages (0.3.4)\n",
      "Requirement already satisfied: beautifulsoup4 in /Library/Frameworks/Python.framework/Versions/3.7/lib/python3.7/site-packages (from snscrape) (4.10.0)\n",
      "Requirement already satisfied: lxml in /Library/Frameworks/Python.framework/Versions/3.7/lib/python3.7/site-packages (from snscrape) (4.6.4)\n",
      "Requirement already satisfied: requests[socks] in /Library/Frameworks/Python.framework/Versions/3.7/lib/python3.7/site-packages (from snscrape) (2.26.0)\n",
      "Requirement already satisfied: soupsieve>1.2 in /Library/Frameworks/Python.framework/Versions/3.7/lib/python3.7/site-packages (from beautifulsoup4->snscrape) (2.3)\n",
      "Requirement already satisfied: urllib3<1.27,>=1.21.1 in /Library/Frameworks/Python.framework/Versions/3.7/lib/python3.7/site-packages (from requests[socks]->snscrape) (1.26.7)\n",
      "Requirement already satisfied: charset-normalizer~=2.0.0 in /Library/Frameworks/Python.framework/Versions/3.7/lib/python3.7/site-packages (from requests[socks]->snscrape) (2.0.7)\n",
      "Requirement already satisfied: certifi>=2017.4.17 in /Library/Frameworks/Python.framework/Versions/3.7/lib/python3.7/site-packages (from requests[socks]->snscrape) (2018.8.24)\n",
      "Requirement already satisfied: idna<4,>=2.5 in /Library/Frameworks/Python.framework/Versions/3.7/lib/python3.7/site-packages (from requests[socks]->snscrape) (3.3)\n",
      "Requirement already satisfied: PySocks!=1.5.7,>=1.5.6 in /Library/Frameworks/Python.framework/Versions/3.7/lib/python3.7/site-packages (from requests[socks]->snscrape) (1.7.1)\n",
      "\u001b[33mWARNING: You are using pip version 20.3.3; however, version 21.3.1 is available.\n",
      "You should consider upgrading via the '/Library/Frameworks/Python.framework/Versions/3.7/bin/python3.7 -m pip install --upgrade pip' command.\u001b[0m\n"
     ]
    }
   ],
   "source": [
    "!pip3 install snscrape"
   ]
  },
  {
   "cell_type": "code",
   "execution_count": 9,
   "metadata": {},
   "outputs": [],
   "source": [
    "import sys \n",
    "sys.path.insert(0, r\"/Library/Frameworks/Python.framework/Versions/3.7/lib/python3.7/site-packages\")\n",
    "\n",
    "import snscrape.modules.twitter as sntwitter\n",
    "import pandas as pd\n",
    "import numpy as np"
   ]
  },
  {
   "cell_type": "code",
   "execution_count": 5,
   "metadata": {},
   "outputs": [
    {
     "name": "stdout",
     "output_type": "stream",
     "text": [
      "3.6.8\n"
     ]
    }
   ],
   "source": [
    "from platform import python_version\n",
    "\n",
    "print(python_version())"
   ]
  },
  {
   "cell_type": "code",
   "execution_count": 6,
   "metadata": {},
   "outputs": [
    {
     "data": {
      "text/html": [
       "<div>\n",
       "<style scoped>\n",
       "    .dataframe tbody tr th:only-of-type {\n",
       "        vertical-align: middle;\n",
       "    }\n",
       "\n",
       "    .dataframe tbody tr th {\n",
       "        vertical-align: top;\n",
       "    }\n",
       "\n",
       "    .dataframe thead th {\n",
       "        text-align: right;\n",
       "    }\n",
       "</style>\n",
       "<table border=\"1\" class=\"dataframe\">\n",
       "  <thead>\n",
       "    <tr style=\"text-align: right;\">\n",
       "      <th></th>\n",
       "      <th>Datetime</th>\n",
       "      <th>Tweet Id</th>\n",
       "      <th>Text</th>\n",
       "      <th>Username</th>\n",
       "    </tr>\n",
       "  </thead>\n",
       "  <tbody>\n",
       "    <tr>\n",
       "      <th>0</th>\n",
       "      <td>2021-11-05 12:41:17+00:00</td>\n",
       "      <td>1456602517140353031</td>\n",
       "      <td>Het zou wel degelijk relevant kunnen zijn, maa...</td>\n",
       "      <td>SaskiaBelleman</td>\n",
       "    </tr>\n",
       "    <tr>\n",
       "      <th>1</th>\n",
       "      <td>2021-11-05 11:50:57+00:00</td>\n",
       "      <td>1456589851986382856</td>\n",
       "      <td>Daar is op dit moment nog niets van bekend. Ko...</td>\n",
       "      <td>SaskiaBelleman</td>\n",
       "    </tr>\n",
       "    <tr>\n",
       "      <th>2</th>\n",
       "      <td>2021-11-05 11:50:25+00:00</td>\n",
       "      <td>1456589718133542912</td>\n",
       "      <td>Nee. Ze gaf toe dat het haar baby was. Niet da...</td>\n",
       "      <td>SaskiaBelleman</td>\n",
       "    </tr>\n",
       "    <tr>\n",
       "      <th>3</th>\n",
       "      <td>2021-11-05 09:47:41+00:00</td>\n",
       "      <td>1456558832268812289</td>\n",
       "      <td>U heeft zelfkennis. Het staat nog helemaal nie...</td>\n",
       "      <td>SaskiaBelleman</td>\n",
       "    </tr>\n",
       "    <tr>\n",
       "      <th>4</th>\n",
       "      <td>2021-11-05 09:46:33+00:00</td>\n",
       "      <td>1456558547588759552</td>\n",
       "      <td>Dat denk ik niet. Los van de vraag of ze dat w...</td>\n",
       "      <td>SaskiaBelleman</td>\n",
       "    </tr>\n",
       "    <tr>\n",
       "      <th>...</th>\n",
       "      <td>...</td>\n",
       "      <td>...</td>\n",
       "      <td>...</td>\n",
       "      <td>...</td>\n",
       "    </tr>\n",
       "    <tr>\n",
       "      <th>496</th>\n",
       "      <td>2021-11-01 09:03:01+00:00</td>\n",
       "      <td>1455098038066814978</td>\n",
       "      <td>De voorzitter komt nog even terug op de 3 ,,in...</td>\n",
       "      <td>SaskiaBelleman</td>\n",
       "    </tr>\n",
       "    <tr>\n",
       "      <th>497</th>\n",
       "      <td>2021-11-01 09:00:37+00:00</td>\n",
       "      <td>1455097435928289284</td>\n",
       "      <td>We zitten in de zaal dichter op elkaar dan tot...</td>\n",
       "      <td>SaskiaBelleman</td>\n",
       "    </tr>\n",
       "    <tr>\n",
       "      <th>498</th>\n",
       "      <td>2021-11-01 08:58:51+00:00</td>\n",
       "      <td>1455096989054611460</td>\n",
       "      <td>We horen zo of de onderzoeksrechter erin gesla...</td>\n",
       "      <td>SaskiaBelleman</td>\n",
       "    </tr>\n",
       "    <tr>\n",
       "      <th>499</th>\n",
       "      <td>2021-11-01 08:54:22+00:00</td>\n",
       "      <td>1455095860140912645</td>\n",
       "      <td>In de rechtbank op Schiphol gaat zo een nieuwe...</td>\n",
       "      <td>SaskiaBelleman</td>\n",
       "    </tr>\n",
       "    <tr>\n",
       "      <th>500</th>\n",
       "      <td>2021-10-30 06:40:41+00:00</td>\n",
       "      <td>1454337445202481153</td>\n",
       "      <td>Wetboek van Strafvordering na bijna eeuw verni...</td>\n",
       "      <td>SaskiaBelleman</td>\n",
       "    </tr>\n",
       "  </tbody>\n",
       "</table>\n",
       "<p>501 rows × 4 columns</p>\n",
       "</div>"
      ],
      "text/plain": [
       "                     Datetime             Tweet Id  \\\n",
       "0   2021-11-05 12:41:17+00:00  1456602517140353031   \n",
       "1   2021-11-05 11:50:57+00:00  1456589851986382856   \n",
       "2   2021-11-05 11:50:25+00:00  1456589718133542912   \n",
       "3   2021-11-05 09:47:41+00:00  1456558832268812289   \n",
       "4   2021-11-05 09:46:33+00:00  1456558547588759552   \n",
       "..                        ...                  ...   \n",
       "496 2021-11-01 09:03:01+00:00  1455098038066814978   \n",
       "497 2021-11-01 09:00:37+00:00  1455097435928289284   \n",
       "498 2021-11-01 08:58:51+00:00  1455096989054611460   \n",
       "499 2021-11-01 08:54:22+00:00  1455095860140912645   \n",
       "500 2021-10-30 06:40:41+00:00  1454337445202481153   \n",
       "\n",
       "                                                  Text        Username  \n",
       "0    Het zou wel degelijk relevant kunnen zijn, maa...  SaskiaBelleman  \n",
       "1    Daar is op dit moment nog niets van bekend. Ko...  SaskiaBelleman  \n",
       "2    Nee. Ze gaf toe dat het haar baby was. Niet da...  SaskiaBelleman  \n",
       "3    U heeft zelfkennis. Het staat nog helemaal nie...  SaskiaBelleman  \n",
       "4    Dat denk ik niet. Los van de vraag of ze dat w...  SaskiaBelleman  \n",
       "..                                                 ...             ...  \n",
       "496  De voorzitter komt nog even terug op de 3 ,,in...  SaskiaBelleman  \n",
       "497  We zitten in de zaal dichter op elkaar dan tot...  SaskiaBelleman  \n",
       "498  We horen zo of de onderzoeksrechter erin gesla...  SaskiaBelleman  \n",
       "499  In de rechtbank op Schiphol gaat zo een nieuwe...  SaskiaBelleman  \n",
       "500  Wetboek van Strafvordering na bijna eeuw verni...  SaskiaBelleman  \n",
       "\n",
       "[501 rows x 4 columns]"
      ]
     },
     "execution_count": 6,
     "metadata": {},
     "output_type": "execute_result"
    }
   ],
   "source": [
    "# importing libraries and packages\n",
    "\n",
    "\n",
    "# Creating list to append tweet data \n",
    "tweets_list1 = []\n",
    "\n",
    "for i,tweet in enumerate(sntwitter.TwitterSearchScraper('#'+'from:SaskiaBelleman').get_items()): #declare a username \n",
    "    if i>500:\n",
    "        break\n",
    "    tweets_list1.append([tweet.date, tweet.id, tweet.content, tweet.username]) #declare the attributes to be returned\n",
    "    \n",
    "tweets_df1 = pd.DataFrame(tweets_list1, columns=['Datetime', 'Tweet Id', 'Text', 'Username'])\n",
    "tweets_df1"
   ]
  },
  {
   "cell_type": "code",
   "execution_count": 7,
   "metadata": {},
   "outputs": [],
   "source": [
    "def find_topic(df):\n",
    "    topics = []\n",
    "    for tweet in df['Text']: #Look through texts of tweets\n",
    "        tweet = tweet.split()\n",
    "        topic = np.nan # If there are no hastags, its a response tweet, so no topic\n",
    "        for word in tweet:\n",
    "            if word[0] == '#':\n",
    "                topic = word[1::]\n",
    "        topics.append(topic)\n",
    "    \n",
    "    topics = np.array(topics)\n",
    "    df['Topic'] = topics\n",
    "    return df[df['Topic']!='nan'].reset_index() #only return non-responsive tweets"
   ]
  },
  {
   "cell_type": "code",
   "execution_count": 10,
   "metadata": {},
   "outputs": [],
   "source": [
    "tweets_df1 = find_topic(tweets_df1)"
   ]
  },
  {
   "cell_type": "code",
   "execution_count": 12,
   "metadata": {},
   "outputs": [
    {
     "data": {
      "text/plain": [
       "array(['containerbaby', 'conatinerbaby', 'vrouwenuitbuiting',\n",
       "       'koffermoord', 'koffermoord.', 'MH17', 'MH17:', 'hooligans',\n",
       "       'hooligans.\"', 'hooligan,', 'hooligan', 'hooligans.', 'MH17.',\n",
       "       'MH17,'], dtype=object)"
      ]
     },
     "execution_count": 12,
     "metadata": {},
     "output_type": "execute_result"
    }
   ],
   "source": [
    "def topics(df):\n",
    "    unique = df['Topic'].unique()\n",
    "    nr_unique = df['Topic'].nunique()\n",
    "    return np.array(unique)\n",
    "\n",
    "topics(tweets_df1) # Using # to find topic needs tweaking, remove punctuation to start\n",
    "    "
   ]
  },
  {
   "cell_type": "code",
   "execution_count": null,
   "metadata": {},
   "outputs": [],
   "source": []
  }
 ],
 "metadata": {
  "kernelspec": {
   "display_name": "Python 3",
   "language": "python",
   "name": "python3"
  },
  "language_info": {
   "codemirror_mode": {
    "name": "ipython",
    "version": 3
   },
   "file_extension": ".py",
   "mimetype": "text/x-python",
   "name": "python",
   "nbconvert_exporter": "python",
   "pygments_lexer": "ipython3",
   "version": "3.6.8"
  }
 },
 "nbformat": 4,
 "nbformat_minor": 2
}
